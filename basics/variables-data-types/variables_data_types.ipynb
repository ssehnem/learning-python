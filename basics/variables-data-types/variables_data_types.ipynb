{
  "cells": [
    {
      "cell_type": "markdown",
      "metadata": {
        "id": "Jlucmv6VZiRx"
      },
      "source": [
        "Exercise 1: Ask the user for their name, age, and favorite color. Print it out in a sentence like a personal ID card.\n",
        "\n",
        "In this exercise I created 3 variables and printed them in one sentence, as a personal ID card.  "
      ]
    },
    {
      "cell_type": "code",
      "execution_count": null,
      "metadata": {
        "id": "AbToExhqZhv4"
      },
      "outputs": [],
      "source": [
        "name = input(\"What is your name? \")\n",
        "age = input(\"What is your age? \")\n",
        "color = input(\"What is your favorite color? \")\n",
        "\n",
        "print(f\"Personal ID Card: \\nName: {name} \\nAge: {age} \\nFavorite Color: {color}\")"
      ]
    },
    {
      "cell_type": "markdown",
      "metadata": {
        "id": "pYO2x91sjJC0"
      },
      "source": [
        "Exercise 2: Ask for the person's weight and height, calculate BMI and display the result.\n",
        "\n",
        "This one is simple, I used 2 variables to get information from the user, created a third one calculating the BMI and then printed it."
      ]
    },
    {
      "cell_type": "code",
      "execution_count": null,
      "metadata": {
        "id": "1hZJbHV5jk4u"
      },
      "outputs": [],
      "source": [
        "weight = float(input(\"What is your weight? \"))\n",
        "height = float(input(\"What is your height in meters? \"))\n",
        "\n",
        "bmi = weight / height ** 2\n",
        "\n",
        "print(\"Your BMI is: \", bmi)"
      ]
    },
    {
      "cell_type": "markdown",
      "metadata": {
        "id": "p4ZBYIcUkzoR"
      },
      "source": [
        "Exercise 3: A person is buying a concert ticket. Ask for their name and age. Use type() to show what kind of data each input is, and print the final ticket info.\n",
        "\n",
        "For this one, I created the variables and printed the type of them using type()."
      ]
    },
    {
      "cell_type": "code",
      "execution_count": null,
      "metadata": {
        "colab": {
          "base_uri": "https://localhost:8080/"
        },
        "id": "bnT2kc6qk5Ks",
        "outputId": "2685a785-2e19-44da-f574-fcba729ff473"
      },
      "outputs": [],
      "source": [
        "name = input(\"What is your name? \")\n",
        "age = input(\"What is your age? \")\n",
        "\n",
        "print(f\"Name Type: {type(name)}, Age Type: {type(age)}\")"
      ]
    }
  ],
  "metadata": {
    "colab": {
      "provenance": []
    },
    "kernelspec": {
      "display_name": "Python 3",
      "name": "python3"
    },
    "language_info": {
      "name": "python"
    }
  },
  "nbformat": 4,
  "nbformat_minor": 0
}
