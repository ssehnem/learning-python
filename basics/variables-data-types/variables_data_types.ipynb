{
  "nbformat": 4,
  "nbformat_minor": 0,
  "metadata": {
    "colab": {
      "provenance": []
    },
    "kernelspec": {
      "name": "python3",
      "display_name": "Python 3"
    },
    "language_info": {
      "name": "python"
    }
  },
  "cells": [
    {
      "cell_type": "markdown",
      "source": [
        "Exercise 1: Ask the user for their name, age, and favorite color. Print it out in a sentence like a personal ID card.\n",
        "\n",
        "In this exercise I created 3 variables and printed them in one sentence, as a personal ID card.  "
      ],
      "metadata": {
        "id": "Jlucmv6VZiRx"
      }
    },
    {
      "cell_type": "code",
      "source": [
        "name = input(\"What is your name? \")\n",
        "age = input(\"What is your age? \")\n",
        "color = input(\"What is your favorite color? \")\n",
        "\n",
        "print(f\"Personal ID Card: \\nName: {name} \\nAge: {age} \\nFavorite Color: {color}\")"
      ],
      "metadata": {
        "id": "AbToExhqZhv4"
      },
      "execution_count": null,
      "outputs": []
    },
    {
      "cell_type": "markdown",
      "source": [
        "Exercise 2: Ask for the person's weight and height, calculate BMI and display the result.\n",
        "\n",
        "This one is simple, I used 2 variables to get information from the user, created a third one calculating the BMI and then printed it."
      ],
      "metadata": {
        "id": "pYO2x91sjJC0"
      }
    },
    {
      "cell_type": "code",
      "source": [
        "weight = float(input(\"What is your weight? \"))\n",
        "height = float(input(\"What is your height in meters? \"))\n",
        "\n",
        "bmi = weight / height ** 2\n",
        "\n",
        "print(\"Your BMI is: \", bmi)"
      ],
      "metadata": {
        "id": "1hZJbHV5jk4u"
      },
      "execution_count": null,
      "outputs": []
    },
    {
      "cell_type": "markdown",
      "source": [
        "Exercise 3: A person is buying a concert ticket. Ask for their name and age. Use type() to show what kind of data each input is, and print the final ticket info.\n",
        "\n",
        "For this one, I created the variables and printed the type of them using type()."
      ],
      "metadata": {
        "id": "p4ZBYIcUkzoR"
      }
    },
    {
      "cell_type": "code",
      "source": [
        "name = input(\"What is your name? \")\n",
        "age = input(\"What is your age? \")\n",
        "\n",
        "print(f\"Name Type: {type(name)}, Age Type: {type(age)}\")"
      ],
      "metadata": {
        "colab": {
          "base_uri": "https://localhost:8080/"
        },
        "id": "bnT2kc6qk5Ks",
        "outputId": "2685a785-2e19-44da-f574-fcba729ff473"
      },
      "execution_count": 4,
      "outputs": [
        {
          "output_type": "stream",
          "name": "stdout",
          "text": [
            "What is your name? sara\n",
            "What is your age? 20\n",
            "Name: <class 'str'>, Age: <class 'str'>\n"
          ]
        }
      ]
    }
  ]
}